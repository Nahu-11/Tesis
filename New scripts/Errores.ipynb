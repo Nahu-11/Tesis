{
 "cells": [
  {
   "cell_type": "code",
   "execution_count": 1,
   "metadata": {},
   "outputs": [],
   "source": [
    "import pandas as pd\n",
    "import numpy as np\n",
    "import matplotlib.pyplot as plt\n",
    "import os"
   ]
  },
  {
   "cell_type": "code",
   "execution_count": 2,
   "metadata": {},
   "outputs": [],
   "source": [
    "def resumen(datos):\n",
    "    return print('Forma:\\n', datos.shape,'\\n\\n',\n",
    "                 'Columnas:\\n', datos.columns,'\\n\\n',\n",
    "                 'Tipos:\\n', datos.dtypes,'\\n\\n',\n",
    "                 'Datos nulos:\\n', datos.isnull().sum(),'\\n\\n',\n",
    "                 'Cabecera:\\n', datos.head(10),'\\n\\n',\n",
    "                 'Últimos datos:\\n', datos.tail(10),'\\n\\n',\n",
    "                 'Estadísticos:\\n', datos.describe([0.05,0.25,0.5,0.75,0.95])\n",
    "                )\n",
    "def truncar(numero, decimales = 0):\n",
    "    return np.trunc(numero*10**decimales)/(10**decimales)"
   ]
  },
  {
   "cell_type": "code",
   "execution_count": 3,
   "metadata": {},
   "outputs": [],
   "source": [
    "def metadata(ejex, ejey):\n",
    "    # plt.title(titulo, fontsize = 60, fontweight='bold')\n",
    "    plt.xlabel(ejex, fontsize = 35)\n",
    "    plt.ylabel(ejey, fontsize = 35)\n",
    "    plt.xticks(fontsize = 25)\n",
    "    plt.yticks(fontsize = 25)\n",
    "    return\n",
    "def cifras_signif(i, cifras = 3):\n",
    "    texto = str('{:g}'.format(float('{:.{p}g}'.format(i, p = cifras))))\n",
    "    return texto"
   ]
  },
  {
   "cell_type": "code",
   "execution_count": 4,
   "metadata": {},
   "outputs": [],
   "source": [
    "def gpp(par, alfa, optimo):\n",
    "    gpp = -(alfa*par*optimo) / (alfa*par+optimo)\n",
    "    return gpp\n",
    "def lloyd_taylor(t, ref, e0):\n",
    "    # Poner t en centigrados\n",
    "    t0 = 269\n",
    "    resp = ref * np.exp(-e0/(t+273.16-t0))\n",
    "    return resp\n",
    "def q10(t, ref, q10):\n",
    "    # Poner t en centigrados\n",
    "    tref = 283.16\n",
    "    resp = ref * q10**((t+273.16-tref)/10)\n",
    "    return resp"
   ]
  },
  {
   "cell_type": "code",
   "execution_count": 5,
   "metadata": {},
   "outputs": [],
   "source": [
    "def err_gpp_par(par, alfa, optimo, error_porc):\n",
    "    error = (gpp(par, alfa, optimo)**2\n",
    "             /(alfa*par)\n",
    "             *error_porc\n",
    "            )\n",
    "    return error\n",
    "def err_gpp_alfa(par, alfa, optimo, error_alfa):\n",
    "    captura = gpp(par, alfa, optimo)\n",
    "    error = ((1\n",
    "              - captura/optimo\n",
    "             )\n",
    "             * captura\n",
    "             / alfa\n",
    "             * error_alfa\n",
    "            )\n",
    "    return error\n",
    "def err_gpp_opt(par, alfa, optimo, error_opt):\n",
    "    captura = gpp(par, alfa, optimo)\n",
    "    error = ((1\n",
    "              - captura/(alfa*par)\n",
    "             )\n",
    "             * captura\n",
    "             / optimo\n",
    "             * error_opt\n",
    "            )\n",
    "    return error\n",
    "def err_reco_temp(t, ref, e0, err_t):\n",
    "    # Poner t en centigrados\n",
    "    t0 = 267\n",
    "    error = (lloyd_taylor(t, ref, e0)\n",
    "             *e0\n",
    "             *err_t\n",
    "             /(t+273-t0)**2\n",
    "            )\n",
    "    return error\n",
    "def err_reco_ref(t, ref, e0, err_ref):\n",
    "    # Poner t en centigrados\n",
    "    t0 = 267\n",
    "    error = lloyd_taylor(t, ref, e0)*err_ref/ref\n",
    "    return error\n",
    "def err_reco_e0(t, ref, e0, err_e0):\n",
    "    # Poner t en centigrados\n",
    "    t0 = 267\n",
    "    error = -lloyd_taylor(t, ref, e0)*err_e0/(t+273-t0)\n",
    "    return error\n",
    "def err_q10_temp(t, ref, Q10, err_t):\n",
    "    # Poner t en centigrados\n",
    "    error = (q10(t, ref, Q10)\n",
    "             *np.log(Q10)\n",
    "             *err_t\n",
    "             /10\n",
    "            )\n",
    "    return error\n",
    "def err_q10_ref(t, ref, Q10, err_ref):\n",
    "    # Poner t en centigrados\n",
    "    error = q10(t, ref, Q10)/ref*err_ref\n",
    "    return error\n",
    "def err_q10_q(t, ref, Q10, err_q):\n",
    "    # Poner t en centigrados\n",
    "    error = q10(t, ref, Q10)*err_q*(t-10)/(10*Q10)\n",
    "    return error"
   ]
  },
  {
   "cell_type": "code",
   "execution_count": 6,
   "metadata": {},
   "outputs": [],
   "source": [
    "anu = pd.read_csv('C:\\\\Users\\\\nahue\\\\Desktop\\\\Tesis_2\\\\Datos\\\\Relleno_anual.txt',\n",
    "                        #'C:\\\\Users\\\\BIOMET\\\\Desktop\\\\Tesis_2\\\\Datos\\\\Relleno_anual.txt',\n",
    "                        delimiter = '\\t',\n",
    "                        decimal = '.',\n",
    "                        na_values = -9999,\n",
    "                        encoding = 'ascii'\n",
    "                        )\n",
    "lut = pd.read_csv('C:\\\\Users\\\\nahue\\\\Desktop\\\\Tesis_2\\\\Datos\\\\Relleno_LUT.txt',\n",
    "                        #'C:\\\\Users\\\\BIOMET\\\\Desktop\\\\Tesis_2\\\\Datos\\\\Relleno_LUT.txt',\n",
    "                        delimiter = '\\t',\n",
    "                        decimal = '.',\n",
    "                        na_values = -9999,\n",
    "                        encoding = 'ascii'\n",
    "                        )\n",
    "reddy = pd.read_csv('C:\\\\Users\\\\nahue\\\\Desktop\\\\Tesis_2\\\\Datos\\\\output.txt',\n",
    "                        #'C:\\\\Users\\\\BIOMET\\\\Desktop\\\\Tesis_2\\\\Datos\\\\output.txt',\n",
    "                        delimiter = '\\t',\n",
    "                        decimal = '.',\n",
    "                        na_values = -9999,\n",
    "                        encoding = 'ascii',\n",
    "                        skiprows = [1]                        \n",
    "                        )\n",
    "datos = pd.read_csv('C:\\\\Users\\\\nahue\\\\Desktop\\\\Tesis_2\\\\Datos\\\\Completos_buenos.txt',\n",
    "                    #'C:\\\\Users\\\\BIOMET\\\\Desktop\\\\Tesis_2\\\\Datos\\\\Completos_buenos.txt',\n",
    "                    delimiter = '\\t',\n",
    "                    decimal = '.',\n",
    "                    na_values = -9999,\n",
    "                    skiprows = [1],\n",
    "                    encoding = 'ascii'\n",
    "                    )"
   ]
  },
  {
   "cell_type": "code",
   "execution_count": 7,
   "metadata": {},
   "outputs": [
    {
     "name": "stdout",
     "output_type": "stream",
     "text": [
      "Forma:\n",
      " (14956, 38) \n",
      "\n",
      " Columnas:\n",
      " Index(['Year', 'DoY', 'Hour', 'NEE', 'LE', 'H', 'Rg', 'Tair', 'Tsoil', 'rH',\n",
      "       'VPD', 'Ustar', 'TS1', 'TS2', 'TS3', 'TS4', 'U', 'DIR', 'PP', 'QG1',\n",
      "       'QG2', 'WET', 'PAR', 'TSH1', 'HS1', 'GH1', 'TSH2', 'HS2', 'GH2', 'TSH3',\n",
      "       'HS3', 'GH3', 'TSH4', 'HS4', 'GH4', 'PAR.1', '   r_err_co2[%]',\n",
      "       '   noise_co2[%]'],\n",
      "      dtype='object') \n",
      "\n",
      " Tipos:\n",
      " Year               float64\n",
      "DoY                float64\n",
      "Hour               float64\n",
      "NEE                float64\n",
      "LE                 float64\n",
      "H                  float64\n",
      "Rg                 float64\n",
      "Tair               float64\n",
      "Tsoil              float64\n",
      "rH                 float64\n",
      "VPD                float64\n",
      "Ustar              float64\n",
      "TS1                float64\n",
      "TS2                float64\n",
      "TS3                float64\n",
      "TS4                float64\n",
      "U                  float64\n",
      "DIR                float64\n",
      "PP                 float64\n",
      "QG1                float64\n",
      "QG2                float64\n",
      "WET                float64\n",
      "PAR                float64\n",
      "TSH1               float64\n",
      "HS1                float64\n",
      "GH1                float64\n",
      "TSH2               float64\n",
      "HS2                float64\n",
      "GH2                float64\n",
      "TSH3               float64\n",
      "HS3                float64\n",
      "GH3                float64\n",
      "TSH4               float64\n",
      "HS4                float64\n",
      "GH4                float64\n",
      "PAR.1              float64\n",
      "   r_err_co2[%]    float64\n",
      "   noise_co2[%]    float64\n",
      "dtype: object \n",
      "\n",
      " Datos nulos:\n",
      " Year                  0\n",
      "DoY                   0\n",
      "Hour                  0\n",
      "NEE                6798\n",
      "LE                 6401\n",
      "H                  5555\n",
      "Rg                  983\n",
      "Tair                983\n",
      "Tsoil               983\n",
      "rH                  983\n",
      "VPD                1906\n",
      "Ustar              4984\n",
      "TS1                 979\n",
      "TS2                 979\n",
      "TS3                 979\n",
      "TS4                 979\n",
      "U                   979\n",
      "DIR                 979\n",
      "PP                  979\n",
      "QG1                 979\n",
      "QG2                 979\n",
      "WET                 979\n",
      "PAR                1000\n",
      "TSH1                979\n",
      "HS1                 979\n",
      "GH1                 979\n",
      "TSH2                979\n",
      "HS2                 979\n",
      "GH2                 979\n",
      "TSH3               5903\n",
      "HS3                5903\n",
      "GH3                5903\n",
      "TSH4               1907\n",
      "HS4                1907\n",
      "GH4                1907\n",
      "PAR.1              1000\n",
      "   r_err_co2[%]    5482\n",
      "   noise_co2[%]    5482\n",
      "dtype: int64 \n",
      "\n",
      " Cabecera:\n",
      "      Year   DoY    Hour  NEE  LE   H       Rg    Tair    Tsoil      rH  ...  \\\n",
      "0  2018.0  54.0   9.125  NaN NaN NaN   555.25  19.290  18.1800  59.295  ...   \n",
      "1  2018.0  54.0   9.625  NaN NaN NaN   673.15  19.515  18.3700  57.470  ...   \n",
      "2  2018.0  54.0  10.125  NaN NaN NaN   833.00  19.640  19.0100  58.040  ...   \n",
      "3  2018.0  54.0  10.625  NaN NaN NaN   734.55  19.685  19.3050  57.160  ...   \n",
      "4  2018.0  54.0  11.125  NaN NaN NaN   939.00  19.990  19.7425  54.795  ...   \n",
      "5  2018.0  54.0  11.625  NaN NaN NaN   984.00  20.300  20.3675  53.565  ...   \n",
      "6  2018.0  54.0  12.125  NaN NaN NaN  1030.00  20.115  20.9375  54.170  ...   \n",
      "7  2018.0  54.0  12.625  NaN NaN NaN  1040.50  20.190  21.5950  52.245  ...   \n",
      "8  2018.0  54.0  13.125  NaN NaN NaN  1056.50  20.405  22.2825  52.085  ...   \n",
      "9  2018.0  54.0  13.625  NaN NaN NaN  1054.50  20.215  22.5525  51.870  ...   \n",
      "\n",
      "      GH2    TSH3     HS3     GH3   TSH4     HS4     GH4   PAR.1  \\\n",
      "0  0.0865  19.700  0.4365  0.2120  19.65  0.2925  0.2495   892.5   \n",
      "1  0.0865  19.705  0.4375  0.2125  19.55  0.3025  0.2480   797.6   \n",
      "2  0.0870     NaN     NaN     NaN  19.50  0.3440  0.2440  1218.0   \n",
      "3  0.0870     NaN     NaN     NaN  19.50  0.3460  0.2440  1070.0   \n",
      "4  0.0880     NaN     NaN     NaN  19.50  0.3555  0.2435  1463.0   \n",
      "5  0.0880     NaN     NaN     NaN  19.50  0.3585  0.2430  1582.5   \n",
      "6  0.0885     NaN     NaN     NaN  19.50  0.3545  0.2430  1681.0   \n",
      "7  0.0880     NaN     NaN     NaN  19.50  0.3615  0.2425  1718.5   \n",
      "8  0.0890     NaN     NaN     NaN  19.50  0.3690  0.2415  1722.0   \n",
      "9  0.0900     NaN     NaN     NaN  19.50  0.3580  0.2430  1722.5   \n",
      "\n",
      "      r_err_co2[%]     noise_co2[%]  \n",
      "0              NaN              NaN  \n",
      "1              NaN              NaN  \n",
      "2              NaN              NaN  \n",
      "3              NaN              NaN  \n",
      "4              NaN              NaN  \n",
      "5              NaN              NaN  \n",
      "6              NaN              NaN  \n",
      "7              NaN              NaN  \n",
      "8              NaN              NaN  \n",
      "9              NaN              NaN  \n",
      "\n",
      "[10 rows x 38 columns] \n",
      "\n",
      " Últimos datos:\n",
      "          Year    DoY    Hour  NEE  LE   H            Rg    Tair    Tsoil  \\\n",
      "14946  2018.0  365.0  18.125  NaN NaN NaN  9.849432e+01  23.495  20.6025   \n",
      "14947  2018.0  365.0  18.625  NaN NaN NaN  3.643182e+01  22.555  20.3700   \n",
      "14948  2018.0  365.0  19.125  NaN NaN NaN  4.909850e-12  21.970  20.1500   \n",
      "14949  2018.0  365.0  19.625  NaN NaN NaN  4.909850e-12  21.490  19.9950   \n",
      "14950  2018.0  365.0  20.125  NaN NaN NaN  4.909850e-12  21.075  19.8525   \n",
      "14951  2018.0  365.0  20.625  NaN NaN NaN  4.909850e-12  20.785  19.7000   \n",
      "14952  2018.0  365.0  21.125  NaN NaN NaN  4.909850e-12  19.410  19.5750   \n",
      "14953  2018.0  365.0  21.625  NaN NaN NaN  4.909850e-12  18.955  19.4600   \n",
      "14954  2018.0  365.0  22.125  NaN NaN NaN  4.909850e-12  18.610  19.3625   \n",
      "14955  2018.0  365.0  22.625  NaN NaN NaN  4.909850e-12  18.690  19.2850   \n",
      "\n",
      "           rH  ...     GH2  TSH3  HS3  GH3  TSH4  HS4  GH4    PAR.1  \\\n",
      "14946  39.900  ...  0.9500   NaN  NaN  NaN   NaN  NaN  NaN  173.350   \n",
      "14947  47.945  ...  0.9485   NaN  NaN  NaN   NaN  NaN  NaN   64.120   \n",
      "14948  56.975  ...  0.9520   NaN  NaN  NaN   NaN  NaN  NaN   28.670   \n",
      "14949  61.120  ...  0.9450   NaN  NaN  NaN   NaN  NaN  NaN    8.530   \n",
      "14950  62.890  ...  0.9530   NaN  NaN  NaN   NaN  NaN  NaN    1.840   \n",
      "14951  64.485  ...  0.9590   NaN  NaN  NaN   NaN  NaN  NaN    0.210   \n",
      "14952  75.090  ...  0.9530   NaN  NaN  NaN   NaN  NaN  NaN   11.950   \n",
      "14953  78.780  ...  0.9590   NaN  NaN  NaN   NaN  NaN  NaN   12.255   \n",
      "14954  80.750  ...  0.9590   NaN  NaN  NaN   NaN  NaN  NaN   21.390   \n",
      "14955  80.200  ...  0.9470   NaN  NaN  NaN   NaN  NaN  NaN    5.980   \n",
      "\n",
      "          r_err_co2[%]     noise_co2[%]  \n",
      "14946              NaN              NaN  \n",
      "14947              NaN              NaN  \n",
      "14948              NaN              NaN  \n",
      "14949              NaN              NaN  \n",
      "14950              NaN              NaN  \n",
      "14951              NaN              NaN  \n",
      "14952              NaN              NaN  \n",
      "14953              NaN              NaN  \n",
      "14954              NaN              NaN  \n",
      "14955              NaN              NaN  \n",
      "\n",
      "[10 rows x 38 columns] \n",
      "\n",
      " Estadísticos:\n",
      "           Year           DoY          Hour          NEE           LE  \\\n",
      "count  14956.0  14956.000000  14956.000000  8158.000000  8555.000000   \n",
      "mean    2018.0    209.666355     11.882514    -0.922135    56.012561   \n",
      "std        0.0     89.949666      6.924822     3.519817    81.555715   \n",
      "min     2018.0     54.000000      0.125000   -21.042500  -396.093353   \n",
      "5%      2018.0     69.000000      1.125000    -7.336793   -12.038307   \n",
      "25%     2018.0    132.000000      6.125000    -2.811538     1.120263   \n",
      "50%     2018.0    210.000000     12.125000     0.034175    23.651245   \n",
      "75%     2018.0    288.000000     18.125000     1.214675    88.453835   \n",
      "95%     2018.0    350.000000     22.625000     3.568315   230.314831   \n",
      "max     2018.0    365.000000     23.625000    14.427700   462.813309   \n",
      "\n",
      "                 H            Rg          Tair         Tsoil            rH  \\\n",
      "count  9401.000000  1.397300e+04  13973.000000  13973.000000  13973.000000   \n",
      "mean     35.623923  1.820602e+02     13.977284     13.157150     75.016263   \n",
      "std     102.738030  2.821362e+02      5.919062      4.542595     16.271972   \n",
      "min    -138.818542  1.808498e-12     -1.990000      1.877500     17.445000   \n",
      "5%      -53.580564  1.000000e-02      4.515000      6.120000     42.291000   \n",
      "25%     -25.089028  2.500000e-02      9.835000      9.292500     64.670000   \n",
      "50%      -5.717734  2.560000e+00     13.730000     13.360000     79.825000   \n",
      "75%      60.902061  2.863500e+02     17.855000     16.690000     88.450000   \n",
      "95%     268.016724  8.554400e+02     24.342000     20.293500     93.000000   \n",
      "max     474.566895  1.190000e+03     33.625000     26.927500     96.500000   \n",
      "\n",
      "       ...           GH2         TSH3          HS3          GH3          TSH4  \\\n",
      "count  ...  13977.000000  9053.000000  9053.000000  9053.000000  13049.000000   \n",
      "mean   ...      0.236512    12.308766     0.536045     0.206270     13.647395   \n",
      "std    ...      1.536241     3.663990     0.029022     0.026463      3.700381   \n",
      "min    ...      0.066000     5.455000     0.436500     0.147000      7.200000   \n",
      "5%     ...      0.073000     7.443000     0.465500     0.171500      8.327000   \n",
      "25%    ...      0.106000     9.195000     0.540000     0.181000     10.095000   \n",
      "50%    ...      0.163000    11.600000     0.545000     0.205000     14.000000   \n",
      "75%    ...      0.218500    15.400000     0.550500     0.224500     16.800000   \n",
      "95%    ...      0.935000    18.692000     0.560500     0.254000     19.500000   \n",
      "max    ...     99.999000    21.715000     0.578000     0.265000     21.575000   \n",
      "\n",
      "                HS4           GH4         PAR.1     r_err_co2[%]  \\\n",
      "count  13049.000000  13049.000000  1.395600e+04      9474.000000   \n",
      "mean       0.409373      0.258827  3.149621e+02        28.289173   \n",
      "std        0.044902      0.061050  5.206372e+02        63.124829   \n",
      "min        0.179500      0.111000  0.000000e+00         3.740930   \n",
      "5%         0.333000      0.149000  1.880052e-12         8.191409   \n",
      "25%        0.388000      0.221500  2.550000e-01        10.070260   \n",
      "50%        0.413500      0.273500  1.348000e+01        12.712403   \n",
      "75%        0.439000      0.309000  4.664375e+02        23.543854   \n",
      "95%        0.476000      0.339000  1.494000e+03        90.511803   \n",
      "max        0.486000      0.351500  9.999990e+03      2804.545746   \n",
      "\n",
      "          noise_co2[%]  \n",
      "count     9.474000e+03  \n",
      "mean      2.243100e+00  \n",
      "std       7.234348e+00  \n",
      "min       5.473400e-14  \n",
      "5%        3.683990e-01  \n",
      "25%       6.246975e-01  \n",
      "50%       8.950726e-01  \n",
      "75%       1.679522e+00  \n",
      "95%       7.893510e+00  \n",
      "max       5.133502e+02  \n",
      "\n",
      "[10 rows x 38 columns]\n"
     ]
    }
   ],
   "source": [
    "resumen(datos)"
   ]
  },
  {
   "cell_type": "code",
   "execution_count": 8,
   "metadata": {},
   "outputs": [],
   "source": [
    "datos['Error porcent'] = datos['   r_err_co2[%]'] + datos['   noise_co2[%]']\n",
    "datos['Error'] = abs(datos['Error porcent']/100 * reddy['NEE'])\n",
    "datos_validos = datos[((datos['Rg'] >= 5)\n",
    "                      & (datos['Ustar'] > 0.14167)\n",
    "                      & (datos['PAR.1'] > 1)\n",
    "                      & pd.notna(datos['NEE'])\n",
    "                      & (datos['Error porcent'] < 30)\n",
    "                     )\n",
    "                    | ((datos['Rg'] < 5)\n",
    "                      & (datos['Ustar'] > 0.14167)\n",
    "                      & pd.notna(datos['Tair'])\n",
    "                      & (datos['NEE'] >= 0)\n",
    "                      & (datos['Error porcent'] < 40)\n",
    "                      & (datos['Error'] < 0.5)\n",
    "                     )\n",
    "                     ]"
   ]
  },
  {
   "cell_type": "code",
   "execution_count": 9,
   "metadata": {},
   "outputs": [
    {
     "data": {
      "text/html": [
       "<div>\n",
       "<style scoped>\n",
       "    .dataframe tbody tr th:only-of-type {\n",
       "        vertical-align: middle;\n",
       "    }\n",
       "\n",
       "    .dataframe tbody tr th {\n",
       "        vertical-align: top;\n",
       "    }\n",
       "\n",
       "    .dataframe thead th {\n",
       "        text-align: right;\n",
       "    }\n",
       "</style>\n",
       "<table border=\"1\" class=\"dataframe\">\n",
       "  <thead>\n",
       "    <tr style=\"text-align: right;\">\n",
       "      <th></th>\n",
       "      <th>DoY</th>\n",
       "      <th>Hour</th>\n",
       "      <th>Tair</th>\n",
       "      <th>Tsoil</th>\n",
       "      <th>NEE_f</th>\n",
       "      <th>NEE_fsd</th>\n",
       "    </tr>\n",
       "  </thead>\n",
       "  <tbody>\n",
       "    <tr>\n",
       "      <th>0</th>\n",
       "      <td>54</td>\n",
       "      <td>9.0</td>\n",
       "      <td>19.180</td>\n",
       "      <td>18.140</td>\n",
       "      <td>-5.630867</td>\n",
       "      <td>0.955625</td>\n",
       "    </tr>\n",
       "    <tr>\n",
       "      <th>1</th>\n",
       "      <td>54</td>\n",
       "      <td>9.5</td>\n",
       "      <td>19.290</td>\n",
       "      <td>18.180</td>\n",
       "      <td>-4.823325</td>\n",
       "      <td>0.132194</td>\n",
       "    </tr>\n",
       "    <tr>\n",
       "      <th>2</th>\n",
       "      <td>54</td>\n",
       "      <td>10.0</td>\n",
       "      <td>19.515</td>\n",
       "      <td>18.370</td>\n",
       "      <td>-6.212467</td>\n",
       "      <td>1.220959</td>\n",
       "    </tr>\n",
       "    <tr>\n",
       "      <th>3</th>\n",
       "      <td>54</td>\n",
       "      <td>10.5</td>\n",
       "      <td>19.640</td>\n",
       "      <td>19.010</td>\n",
       "      <td>-3.625855</td>\n",
       "      <td>2.624397</td>\n",
       "    </tr>\n",
       "    <tr>\n",
       "      <th>4</th>\n",
       "      <td>54</td>\n",
       "      <td>11.0</td>\n",
       "      <td>19.685</td>\n",
       "      <td>19.305</td>\n",
       "      <td>-7.545225</td>\n",
       "      <td>2.351943</td>\n",
       "    </tr>\n",
       "  </tbody>\n",
       "</table>\n",
       "</div>"
      ],
      "text/plain": [
       "   DoY  Hour    Tair   Tsoil     NEE_f   NEE_fsd\n",
       "0   54   9.0  19.180  18.140 -5.630867  0.955625\n",
       "1   54   9.5  19.290  18.180 -4.823325  0.132194\n",
       "2   54  10.0  19.515  18.370 -6.212467  1.220959\n",
       "3   54  10.5  19.640  19.010 -3.625855  2.624397\n",
       "4   54  11.0  19.685  19.305 -7.545225  2.351943"
      ]
     },
     "execution_count": 9,
     "metadata": {},
     "output_type": "execute_result"
    }
   ],
   "source": [
    "comparacion = reddy[['DoY', 'Hour', 'Tair', 'Tsoil', 'NEE_f', 'NEE_fsd']][:]\n",
    "comparacion.head()"
   ]
  },
  {
   "cell_type": "code",
   "execution_count": 10,
   "metadata": {},
   "outputs": [
    {
     "data": {
      "text/html": [
       "<div>\n",
       "<style scoped>\n",
       "    .dataframe tbody tr th:only-of-type {\n",
       "        vertical-align: middle;\n",
       "    }\n",
       "\n",
       "    .dataframe tbody tr th {\n",
       "        vertical-align: top;\n",
       "    }\n",
       "\n",
       "    .dataframe thead th {\n",
       "        text-align: right;\n",
       "    }\n",
       "</style>\n",
       "<table border=\"1\" class=\"dataframe\">\n",
       "  <thead>\n",
       "    <tr style=\"text-align: right;\">\n",
       "      <th></th>\n",
       "      <th>DoY</th>\n",
       "      <th>Hour</th>\n",
       "      <th>Tair</th>\n",
       "      <th>Tsoil</th>\n",
       "      <th>NEE_f</th>\n",
       "      <th>NEE_fsd</th>\n",
       "      <th>Std LUT</th>\n",
       "      <th>Std LUT MDV</th>\n",
       "      <th>Std anu MDV</th>\n",
       "      <th>Error turb</th>\n",
       "      <th>PAR</th>\n",
       "      <th>Dias</th>\n",
       "    </tr>\n",
       "  </thead>\n",
       "  <tbody>\n",
       "    <tr>\n",
       "      <th>0</th>\n",
       "      <td>54</td>\n",
       "      <td>9.0</td>\n",
       "      <td>19.180</td>\n",
       "      <td>18.140</td>\n",
       "      <td>-5.630867</td>\n",
       "      <td>0.955625</td>\n",
       "      <td>2.853516</td>\n",
       "      <td>NaN</td>\n",
       "      <td>NaN</td>\n",
       "      <td>NaN</td>\n",
       "      <td>892.5</td>\n",
       "      <td>54.000000</td>\n",
       "    </tr>\n",
       "    <tr>\n",
       "      <th>1</th>\n",
       "      <td>54</td>\n",
       "      <td>9.5</td>\n",
       "      <td>19.290</td>\n",
       "      <td>18.180</td>\n",
       "      <td>-4.823325</td>\n",
       "      <td>0.132194</td>\n",
       "      <td>2.224728</td>\n",
       "      <td>NaN</td>\n",
       "      <td>NaN</td>\n",
       "      <td>NaN</td>\n",
       "      <td>797.6</td>\n",
       "      <td>54.020833</td>\n",
       "    </tr>\n",
       "    <tr>\n",
       "      <th>2</th>\n",
       "      <td>54</td>\n",
       "      <td>10.0</td>\n",
       "      <td>19.515</td>\n",
       "      <td>18.370</td>\n",
       "      <td>-6.212467</td>\n",
       "      <td>1.220959</td>\n",
       "      <td>4.520234</td>\n",
       "      <td>NaN</td>\n",
       "      <td>NaN</td>\n",
       "      <td>NaN</td>\n",
       "      <td>1218.0</td>\n",
       "      <td>54.041667</td>\n",
       "    </tr>\n",
       "    <tr>\n",
       "      <th>3</th>\n",
       "      <td>54</td>\n",
       "      <td>10.5</td>\n",
       "      <td>19.640</td>\n",
       "      <td>19.010</td>\n",
       "      <td>-3.625855</td>\n",
       "      <td>2.624397</td>\n",
       "      <td>4.180161</td>\n",
       "      <td>NaN</td>\n",
       "      <td>NaN</td>\n",
       "      <td>NaN</td>\n",
       "      <td>1070.0</td>\n",
       "      <td>54.062500</td>\n",
       "    </tr>\n",
       "    <tr>\n",
       "      <th>4</th>\n",
       "      <td>54</td>\n",
       "      <td>11.0</td>\n",
       "      <td>19.685</td>\n",
       "      <td>19.305</td>\n",
       "      <td>-7.545225</td>\n",
       "      <td>2.351943</td>\n",
       "      <td>3.738405</td>\n",
       "      <td>NaN</td>\n",
       "      <td>NaN</td>\n",
       "      <td>NaN</td>\n",
       "      <td>1463.0</td>\n",
       "      <td>54.083333</td>\n",
       "    </tr>\n",
       "  </tbody>\n",
       "</table>\n",
       "</div>"
      ],
      "text/plain": [
       "   DoY  Hour    Tair   Tsoil     NEE_f   NEE_fsd   Std LUT  Std LUT MDV  \\\n",
       "0   54   9.0  19.180  18.140 -5.630867  0.955625  2.853516          NaN   \n",
       "1   54   9.5  19.290  18.180 -4.823325  0.132194  2.224728          NaN   \n",
       "2   54  10.0  19.515  18.370 -6.212467  1.220959  4.520234          NaN   \n",
       "3   54  10.5  19.640  19.010 -3.625855  2.624397  4.180161          NaN   \n",
       "4   54  11.0  19.685  19.305 -7.545225  2.351943  3.738405          NaN   \n",
       "\n",
       "   Std anu MDV  Error turb     PAR       Dias  \n",
       "0          NaN         NaN   892.5  54.000000  \n",
       "1          NaN         NaN   797.6  54.020833  \n",
       "2          NaN         NaN  1218.0  54.041667  \n",
       "3          NaN         NaN  1070.0  54.062500  \n",
       "4          NaN         NaN  1463.0  54.083333  "
      ]
     },
     "execution_count": 10,
     "metadata": {},
     "output_type": "execute_result"
    }
   ],
   "source": [
    "comparacion['Std LUT'] = lut['Std LUT'][:]\n",
    "comparacion['Std LUT MDV'] = lut['Std MDV'][:]\n",
    "comparacion['Std anu MDV'] = anu['Std MDV'][:]\n",
    "comparacion['Error turb'] = datos_validos['Error'][:]\n",
    "comparacion['PAR'] = datos['PAR.1'][:]\n",
    "comparacion['Dias'] = comparacion.index/48 + 54\n",
    "comparacion.head()"
   ]
  },
  {
   "cell_type": "code",
   "execution_count": 11,
   "metadata": {},
   "outputs": [
    {
     "data": {
      "text/html": [
       "<div>\n",
       "<style scoped>\n",
       "    .dataframe tbody tr th:only-of-type {\n",
       "        vertical-align: middle;\n",
       "    }\n",
       "\n",
       "    .dataframe tbody tr th {\n",
       "        vertical-align: top;\n",
       "    }\n",
       "\n",
       "    .dataframe thead th {\n",
       "        text-align: right;\n",
       "    }\n",
       "</style>\n",
       "<table border=\"1\" class=\"dataframe\">\n",
       "  <thead>\n",
       "    <tr style=\"text-align: right;\">\n",
       "      <th></th>\n",
       "      <th>DoY</th>\n",
       "      <th>Hour</th>\n",
       "      <th>Tair</th>\n",
       "      <th>Tsoil</th>\n",
       "      <th>NEE_f</th>\n",
       "      <th>NEE_fsd</th>\n",
       "      <th>Std LUT</th>\n",
       "      <th>Std LUT MDV</th>\n",
       "      <th>Std anu MDV</th>\n",
       "      <th>Error turb</th>\n",
       "      <th>PAR</th>\n",
       "      <th>Dias</th>\n",
       "    </tr>\n",
       "  </thead>\n",
       "  <tbody>\n",
       "    <tr>\n",
       "      <th>14951</th>\n",
       "      <td>365</td>\n",
       "      <td>20.5</td>\n",
       "      <td>21.075</td>\n",
       "      <td>19.8525</td>\n",
       "      <td>3.862050</td>\n",
       "      <td>4.042071</td>\n",
       "      <td>3.026112</td>\n",
       "      <td>NaN</td>\n",
       "      <td>NaN</td>\n",
       "      <td>NaN</td>\n",
       "      <td>0.210</td>\n",
       "      <td>365.479167</td>\n",
       "    </tr>\n",
       "    <tr>\n",
       "      <th>14952</th>\n",
       "      <td>365</td>\n",
       "      <td>21.0</td>\n",
       "      <td>20.785</td>\n",
       "      <td>19.7000</td>\n",
       "      <td>3.876199</td>\n",
       "      <td>4.073495</td>\n",
       "      <td>3.026112</td>\n",
       "      <td>NaN</td>\n",
       "      <td>NaN</td>\n",
       "      <td>NaN</td>\n",
       "      <td>11.950</td>\n",
       "      <td>365.500000</td>\n",
       "    </tr>\n",
       "    <tr>\n",
       "      <th>14953</th>\n",
       "      <td>365</td>\n",
       "      <td>21.5</td>\n",
       "      <td>19.410</td>\n",
       "      <td>19.5750</td>\n",
       "      <td>3.890915</td>\n",
       "      <td>4.105639</td>\n",
       "      <td>3.026112</td>\n",
       "      <td>NaN</td>\n",
       "      <td>NaN</td>\n",
       "      <td>NaN</td>\n",
       "      <td>12.255</td>\n",
       "      <td>365.520833</td>\n",
       "    </tr>\n",
       "    <tr>\n",
       "      <th>14954</th>\n",
       "      <td>365</td>\n",
       "      <td>22.0</td>\n",
       "      <td>18.955</td>\n",
       "      <td>19.4600</td>\n",
       "      <td>3.911156</td>\n",
       "      <td>4.137216</td>\n",
       "      <td>3.026112</td>\n",
       "      <td>NaN</td>\n",
       "      <td>NaN</td>\n",
       "      <td>NaN</td>\n",
       "      <td>21.390</td>\n",
       "      <td>365.541667</td>\n",
       "    </tr>\n",
       "    <tr>\n",
       "      <th>14955</th>\n",
       "      <td>365</td>\n",
       "      <td>22.5</td>\n",
       "      <td>18.610</td>\n",
       "      <td>19.3625</td>\n",
       "      <td>3.925391</td>\n",
       "      <td>4.171247</td>\n",
       "      <td>3.026112</td>\n",
       "      <td>NaN</td>\n",
       "      <td>NaN</td>\n",
       "      <td>NaN</td>\n",
       "      <td>5.980</td>\n",
       "      <td>365.562500</td>\n",
       "    </tr>\n",
       "  </tbody>\n",
       "</table>\n",
       "</div>"
      ],
      "text/plain": [
       "       DoY  Hour    Tair    Tsoil     NEE_f   NEE_fsd   Std LUT  Std LUT MDV  \\\n",
       "14951  365  20.5  21.075  19.8525  3.862050  4.042071  3.026112          NaN   \n",
       "14952  365  21.0  20.785  19.7000  3.876199  4.073495  3.026112          NaN   \n",
       "14953  365  21.5  19.410  19.5750  3.890915  4.105639  3.026112          NaN   \n",
       "14954  365  22.0  18.955  19.4600  3.911156  4.137216  3.026112          NaN   \n",
       "14955  365  22.5  18.610  19.3625  3.925391  4.171247  3.026112          NaN   \n",
       "\n",
       "       Std anu MDV  Error turb     PAR        Dias  \n",
       "14951          NaN         NaN   0.210  365.479167  \n",
       "14952          NaN         NaN  11.950  365.500000  \n",
       "14953          NaN         NaN  12.255  365.520833  \n",
       "14954          NaN         NaN  21.390  365.541667  \n",
       "14955          NaN         NaN   5.980  365.562500  "
      ]
     },
     "execution_count": 11,
     "metadata": {},
     "output_type": "execute_result"
    }
   ],
   "source": [
    "comparacion.tail()"
   ]
  },
  {
   "cell_type": "code",
   "execution_count": 12,
   "metadata": {},
   "outputs": [
    {
     "name": "stderr",
     "output_type": "stream",
     "text": [
      "C:\\Users\\nahue\\AppData\\Local\\Programs\\Python\\Python37\\lib\\site-packages\\pandas\\core\\indexing.py:205: SettingWithCopyWarning: \n",
      "A value is trying to be set on a copy of a slice from a DataFrame\n",
      "\n",
      "See the caveats in the documentation: http://pandas.pydata.org/pandas-docs/stable/user_guide/indexing.html#returning-a-view-versus-a-copy\n",
      "  self._setitem_with_indexer(indexer, value)\n"
     ]
    }
   ],
   "source": [
    "alfa_anu = [0.00897, 0.000322]\n",
    "optimo_anu = [20.4, 1.36]\n",
    "ref_anu_soil = [19.4, 6.67]\n",
    "e0_anu_soil = [46, 12.9]\n",
    "t0_anu_soil = [267, 2.58]\n",
    "ref_anu_air = [13.7, 3.49]\n",
    "e0_anu_air = [45.4, 11.2]\n",
    "to_anu_air = [264, 2.64]\n",
    "valor_q10 = [1.15, 0.113]\n",
    "ref_q10 = [3.32, 0.0221]\n",
    "nans = np.empty(len(comparacion['Dias']))\n",
    "nans[:] = np.nan\n",
    "comparacion['Error nee bim'] = nans[:]\n",
    "ref_bim = {'Valores': [9.59, 9.59, 7.77, 13.29, 7.67, 16.55, 16.55],\n",
    "           'Std': [5.3, 5.3, 2.88, 4.51, 1.73, 3.8, 3.8]\n",
    "          }\n",
    "e0_bim = {'Valores': [23.78, 23.78, 31.08, 40.49, 29.63, 42.84, 42.84],\n",
    "         'Std': [12.53, 12.53, 5.73, 5.11, 4.1, 5.08, 5.08]\n",
    "         }\n",
    "alfa_bim = {'Valores': [0.139, 0.139, 0.027, 0.033, 0.016, 0.024, 0.024],\n",
    "           'Std': [0.042, 0.042, 0.004, 0.005, 0.001, 0.005, 0.005]\n",
    "           }\n",
    "optimo_bim = {'Valores': [9.69, 9.69, 5.66, 3.32, 7.12, 7.31, 7.31],\n",
    "              'Std': [0.688, 0.688, 0.284, 0.110, 0.265, 0.277, 0.277]\n",
    "             }\n",
    "comparacion['Err q10 temp'] = err_q10_temp(comparacion['Tsoil'],\n",
    "                                 ref_q10[0],\n",
    "                                 valor_q10[0],\n",
    "                                 0.06\n",
    "                                )\n",
    "comparacion['Err q10 ref'] = err_q10_ref(comparacion['Tsoil'],\n",
    "                                 ref_q10[0],\n",
    "                                 valor_q10[0],\n",
    "                                 ref_q10[1]\n",
    "                                )\n",
    "comparacion['Err q10 q'] = err_q10_q(comparacion['Tsoil'],\n",
    "                                 ref_q10[0],\n",
    "                                 valor_q10[0],\n",
    "                                 valor_q10[1]\n",
    "                                )\n",
    "comparacion['Err q10 final'] = np.sqrt(comparacion['Err q10 temp']**2\n",
    "                                       + comparacion['Err q10 ref']**2\n",
    "                                       + comparacion['Err q10 q']**2\n",
    "                                       )\n",
    "comparacion['Err gpp anu par'] = err_gpp_par(comparacion['PAR'],\n",
    "                                     alfa_anu[0],\n",
    "                                     optimo_anu[0],\n",
    "                                     0.027\n",
    "                                    )\n",
    "comparacion['Err gpp anu alfa'] = err_gpp_alfa(comparacion['PAR'],\n",
    "                                     alfa_anu[0],\n",
    "                                     optimo_anu[0],\n",
    "                                     alfa_anu[1]\n",
    "                                    )\n",
    "comparacion['Err gpp anu opt'] = err_gpp_opt(comparacion['PAR'],\n",
    "                                     alfa_anu[0],\n",
    "                                     optimo_anu[0],\n",
    "                                     optimo_anu[1]\n",
    "                                    )\n",
    "comparacion['Err gpp final'] = np.sqrt(comparacion['Err gpp anu par']**2\n",
    "                                       + comparacion['Err gpp anu alfa']**2\n",
    "                                       + comparacion['Err gpp anu opt']**2\n",
    "                                       )\n",
    "comparacion['Err reco anu temp'] = err_reco_temp(comparacion['Tsoil'],\n",
    "                                       ref_anu_soil[0],\n",
    "                                       e0_anu_soil[0],\n",
    "                                       0.06\n",
    "                                       )\n",
    "comparacion['Err reco anu ref'] = err_reco_ref(comparacion['Tsoil'],\n",
    "                                       ref_anu_soil[0],\n",
    "                                       e0_anu_soil[0],\n",
    "                                       ref_anu_soil[1]\n",
    "                                       )\n",
    "comparacion['Err reco anu e0'] = err_reco_e0(comparacion['Tsoil'],\n",
    "                                       ref_anu_soil[0],\n",
    "                                       e0_anu_soil[0],\n",
    "                                       e0_anu_soil[1]\n",
    "                                       )\n",
    "comparacion['Err reco soil final'] = np.sqrt(comparacion['Err reco anu temp']**2\n",
    "                                       + comparacion['Err reco anu ref']**2\n",
    "                                       + comparacion['Err reco anu e0']**2\n",
    "                                       )\n",
    "comparacion['Err reco air temp'] = err_reco_temp(comparacion['Tair'],\n",
    "                                       ref_anu_air[0],\n",
    "                                       e0_anu_air[0],\n",
    "                                       0.2\n",
    "                                       )\n",
    "comparacion['Err reco air ref'] = err_reco_ref(comparacion['Tair'],\n",
    "                                       ref_anu_air[0],\n",
    "                                       e0_anu_air[0],\n",
    "                                       ref_anu_air[1]\n",
    "                                       )\n",
    "comparacion['Err reco air e0'] = err_reco_e0(comparacion['Tair'],\n",
    "                                       ref_anu_air[0],\n",
    "                                       e0_anu_air[0],\n",
    "                                       e0_anu_air[1]\n",
    "                                       )\n",
    "comparacion['Err reco air final'] = np.sqrt(comparacion['Err reco air temp']**2\n",
    "                                       + comparacion['Err reco air ref']**2\n",
    "                                       + comparacion['Err reco air e0']**2\n",
    "                                       )\n",
    "comparacion['Err nee air'] = (comparacion['Err gpp final']\n",
    "                              + comparacion['Err reco air final']\n",
    "                             )\n",
    "comparacion['Err nee soil'] = (comparacion['Err gpp final']\n",
    "                               + comparacion['Err reco soil final']\n",
    "                              )\n",
    "dias = np.arange(0, 480, 60)\n",
    "for i in range(1, len(dias)):\n",
    "    desde = dias[i-1]\n",
    "    hasta = dias[i]\n",
    "    datos_bimes = comparacion[(comparacion['Dias'] >= desde)\n",
    "                              & (comparacion['Dias'] < hasta)\n",
    "                              ][:]\n",
    "    datos_bimes['Err reco temp'] = err_reco_temp(datos_bimes['Tsoil'],\n",
    "                                       ref_bim['Valores'][i-1],\n",
    "                                       e0_bim['Valores'][i-1],\n",
    "                                       0.06\n",
    "                                       )\n",
    "    datos_bimes['Err reco ref'] = err_reco_ref(datos_bimes['Tsoil'],\n",
    "                                       ref_bim['Valores'][i-1],\n",
    "                                       e0_bim['Valores'][i-1],\n",
    "                                       ref_bim['Std'][i-1]\n",
    "                                       )\n",
    "    datos_bimes['Err reco e0'] = err_reco_e0(datos_bimes['Tsoil'],\n",
    "                                       ref_bim['Valores'][i-1],\n",
    "                                       e0_bim['Valores'][i-1],\n",
    "                                       e0_bim['Std'][i-1]\n",
    "                                       )\n",
    "    datos_bimes['Err Gpp par'] = err_gpp_par(datos_bimes['PAR'],\n",
    "                                     alfa_bim['Valores'][i-1],\n",
    "                                     optimo_bim['Valores'][i-1],\n",
    "                                     0.027\n",
    "                                    )\n",
    "    datos_bimes['Err Gpp alfa'] = err_gpp_alfa(datos_bimes['PAR'],\n",
    "                                     alfa_bim['Valores'][i-1],\n",
    "                                     optimo_bim['Valores'][i-1],\n",
    "                                     alfa_bim['Std'][i-1]\n",
    "                                    )\n",
    "    datos_bimes['Err Gpp optimo'] = err_gpp_opt(datos_bimes['PAR'],\n",
    "                                     alfa_bim['Valores'][i-1],\n",
    "                                     optimo_bim['Valores'][i-1],\n",
    "                                     optimo_bim['Std'][i-1]\n",
    "                                    )\n",
    "    datos_bimes['Err reco'] = np.sqrt(datos_bimes['Err reco temp']**2\n",
    "                                       + datos_bimes['Err reco ref']**2\n",
    "                                       + datos_bimes['Err reco e0']**2\n",
    "                                       )\n",
    "    datos_bimes['Err Gpp'] = np.sqrt(datos_bimes['Err Gpp par']**2\n",
    "                                       + datos_bimes['Err Gpp alfa']**2\n",
    "                                       + datos_bimes['Err Gpp optimo']**2\n",
    "                                       )\n",
    "    datos_bimes['Err nee'] = (datos_bimes['Err Gpp']\n",
    "                              + datos_bimes['Err reco']\n",
    "                              )\n",
    "    comparacion['Error nee bim'].loc[\n",
    "        datos_bimes.index] = datos_bimes['Err nee'][:]"
   ]
  },
  {
   "cell_type": "code",
   "execution_count": 13,
   "metadata": {},
   "outputs": [],
   "source": [
    "dias = [0, 120, 180, 240, 300, 366]\n",
    "error_anu = list(range(1, len(dias)))\n",
    "error_bim = list(range(1, len(dias)))\n",
    "error_tair = list(range(1, len(dias)))\n",
    "error_lut = list(range(1, len(dias)))\n",
    "error_reddy = list(range(1, len(dias)))\n",
    "for j in ['Err nee soil', 'Err nee air', 'Error nee bim', 'Std LUT', 'NEE_fsd']:\n",
    "    for i in list(range(1, len(dias))):\n",
    "        desde = dias[i-1]\n",
    "        hasta = dias[i]\n",
    "        datos_bimes = comparacion[(comparacion['Dias'] >= desde)\n",
    "                                  & (comparacion['Dias'] < hasta)\n",
    "                                  ][:]\n",
    "        if j == 'Std LUT':\n",
    "            datos_bimes['Error turb'] = datos_bimes['Error turb'].fillna(\n",
    "                                                    datos_bimes[j]\n",
    "                                                    ).fillna(\n",
    "                                            datos_bimes['Std LUT MDV']\n",
    "                                            )\n",
    "            datos_bimes['Error turb'] = datos_bimes['Error turb']*30*60*44/1000000\n",
    "            error_lut[i-1] = np.sqrt((datos_bimes['Error turb']**2).sum())\n",
    "        elif j == 'NEE_fsd':\n",
    "            datos_bimes['NEE_fsd'] = datos_bimes['NEE_fsd']*30*60*44/1000000\n",
    "            error_reddy[i-1] = np.sqrt((datos_bimes['NEE_fsd']**2).sum())\n",
    "        else:\n",
    "            datos_bimes['Error turb'] = datos_bimes['Error turb'].fillna(\n",
    "                                                    datos_bimes[j]\n",
    "                                                    ).fillna(\n",
    "                                            datos_bimes['Std anu MDV']\n",
    "                                            )\n",
    "            datos_bimes['Error turb'] = datos_bimes['Error turb']*30*60*44/1000000\n",
    "            if j == 'Err nee soil':\n",
    "                error_anu[i-1] = np.sqrt((datos_bimes['Error turb']**2).sum())\n",
    "            if j == 'Err nee air':\n",
    "                error_tair[i-1] = np.sqrt((datos_bimes['Error turb']**2).sum())\n",
    "            if j == 'Error nee bim':\n",
    "                error_bim[i-1] = np.sqrt((datos_bimes['Error turb']**2).sum())"
   ]
  },
  {
   "cell_type": "code",
   "execution_count": 14,
   "metadata": {},
   "outputs": [],
   "source": [
    "total_anu = np.linalg.norm(error_anu)*1000/100000\n",
    "total_bim = np.linalg.norm(error_bim)*1000/100000\n",
    "total_air = np.linalg.norm(error_tair)*1000/100000\n",
    "total_lut = np.linalg.norm(error_lut)*1000/100000\n",
    "total_reddy = np.linalg.norm(error_reddy)*1000/100000"
   ]
  },
  {
   "cell_type": "code",
   "execution_count": 15,
   "metadata": {},
   "outputs": [
    {
     "data": {
      "text/plain": [
       "[8.487579118218171,\n",
       " 5.2888274638944415,\n",
       " 4.16089977135084,\n",
       " 5.69227141842297,\n",
       " 11.728524139301877]"
      ]
     },
     "execution_count": 15,
     "metadata": {},
     "output_type": "execute_result"
    }
   ],
   "source": [
    "error_reddy"
   ]
  },
  {
   "cell_type": "code",
   "execution_count": 17,
   "metadata": {},
   "outputs": [
    {
     "data": {
      "text/plain": [
       "[11.180641068331909,\n",
       " 5.493259796269121,\n",
       " 3.410583067550295,\n",
       " 3.902624295987952,\n",
       " 8.286708614975092]"
      ]
     },
     "execution_count": 17,
     "metadata": {},
     "output_type": "execute_result"
    }
   ],
   "source": [
    "error_lut"
   ]
  },
  {
   "cell_type": "code",
   "execution_count": 18,
   "metadata": {},
   "outputs": [
    {
     "data": {
      "text/plain": [
       "[19.751887804197835,\n",
       " 3.119444645001502,\n",
       " 1.9616492519680955,\n",
       " 1.6756706061312634,\n",
       " 5.3427923711696375]"
      ]
     },
     "execution_count": 18,
     "metadata": {},
     "output_type": "execute_result"
    }
   ],
   "source": [
    "error_bim # Gramos de carbono por metro cuadrado"
   ]
  },
  {
   "cell_type": "code",
   "execution_count": 19,
   "metadata": {},
   "outputs": [
    {
     "data": {
      "text/plain": [
       "[7.393650063442492,\n",
       " 3.6931379519182195,\n",
       " 2.0782944532495335,\n",
       " 2.686007694103542,\n",
       " 5.756764961789027]"
      ]
     },
     "execution_count": 19,
     "metadata": {},
     "output_type": "execute_result"
    }
   ],
   "source": [
    "error_anu # Gramos de carbono por metro cuadrado"
   ]
  },
  {
   "cell_type": "code",
   "execution_count": 16,
   "metadata": {},
   "outputs": [
    {
     "data": {
      "text/plain": [
       "0.1694945469698853"
      ]
     },
     "execution_count": 16,
     "metadata": {},
     "output_type": "execute_result"
    }
   ],
   "source": [
    "total_reddy"
   ]
  },
  {
   "cell_type": "code",
   "execution_count": 20,
   "metadata": {},
   "outputs": [
    {
     "data": {
      "text/plain": [
       "0.1583397394256967"
      ]
     },
     "execution_count": 20,
     "metadata": {},
     "output_type": "execute_result"
    }
   ],
   "source": [
    "total_lut"
   ]
  },
  {
   "cell_type": "code",
   "execution_count": 21,
   "metadata": {},
   "outputs": [
    {
     "data": {
      "text/plain": [
       "0.10629187042526576"
      ]
     },
     "execution_count": 21,
     "metadata": {},
     "output_type": "execute_result"
    }
   ],
   "source": [
    "total_anu # Toneladas por hectarea "
   ]
  },
  {
   "cell_type": "code",
   "execution_count": 22,
   "metadata": {},
   "outputs": [
    {
     "data": {
      "text/plain": [
       "0.2085831673007857"
      ]
     },
     "execution_count": 22,
     "metadata": {},
     "output_type": "execute_result"
    }
   ],
   "source": [
    "total_bim # Toneladas por hectarea "
   ]
  },
  {
   "cell_type": "code",
   "execution_count": 54,
   "metadata": {},
   "outputs": [
    {
     "data": {
      "text/plain": [
       "1.2479689407961074"
      ]
     },
     "execution_count": 54,
     "metadata": {},
     "output_type": "execute_result"
    }
   ],
   "source": [
    "comparacion['Err nee soil'].mean() # Micromol por metro cuadrado y segundo"
   ]
  },
  {
   "cell_type": "code",
   "execution_count": 55,
   "metadata": {},
   "outputs": [
    {
     "data": {
      "text/plain": [
       "0.24222964367134914"
      ]
     },
     "execution_count": 55,
     "metadata": {},
     "output_type": "execute_result"
    }
   ],
   "source": [
    "comparacion['Err gpp final'].mean()"
   ]
  },
  {
   "cell_type": "code",
   "execution_count": 56,
   "metadata": {},
   "outputs": [
    {
     "data": {
      "text/plain": [
       "1.017484829592306"
      ]
     },
     "execution_count": 56,
     "metadata": {},
     "output_type": "execute_result"
    }
   ],
   "source": [
    "comparacion['Err reco soil final'].mean()"
   ]
  },
  {
   "cell_type": "code",
   "execution_count": 57,
   "metadata": {},
   "outputs": [
    {
     "data": {
      "text/plain": [
       "count    13973.000000\n",
       "mean         0.009292\n",
       "std          0.002582\n",
       "min          0.000424\n",
       "25%          0.007494\n",
       "50%          0.010343\n",
       "75%          0.011449\n",
       "max          0.011806\n",
       "Name: Err reco anu temp, dtype: float64"
      ]
     },
     "execution_count": 57,
     "metadata": {},
     "output_type": "execute_result"
    }
   ],
   "source": [
    "comparacion['Err reco anu temp'].describe()"
   ]
  },
  {
   "cell_type": "code",
   "execution_count": 58,
   "metadata": {},
   "outputs": [
    {
     "data": {
      "text/plain": [
       "count    13973.000000\n",
       "mean         0.498461\n",
       "std          0.306968\n",
       "min          0.003275\n",
       "25%          0.218314\n",
       "50%          0.482897\n",
       "75%          0.734463\n",
       "max          1.518807\n",
       "Name: Err reco anu ref, dtype: float64"
      ]
     },
     "execution_count": 58,
     "metadata": {},
     "output_type": "execute_result"
    }
   ],
   "source": [
    "comparacion['Err reco anu ref'].describe()"
   ]
  },
  {
   "cell_type": "code",
   "execution_count": 24,
   "metadata": {},
   "outputs": [
    {
     "data": {
      "text/plain": [
       "count    13973.000000\n",
       "mean        -0.883109\n",
       "std          0.394739\n",
       "min         -1.730651\n",
       "25%         -1.214510\n",
       "50%         -0.935869\n",
       "75%         -0.535636\n",
       "max         -0.015599\n",
       "Name: Err reco anu e0, dtype: float64"
      ]
     },
     "execution_count": 24,
     "metadata": {},
     "output_type": "execute_result"
    }
   ],
   "source": [
    "comparacion['Err reco anu e0'].describe()"
   ]
  },
  {
   "cell_type": "code",
   "execution_count": 32,
   "metadata": {},
   "outputs": [
    {
     "data": {
      "text/plain": [
       "count    13973.000000\n",
       "mean         0.023144\n",
       "std          0.001471\n",
       "min          0.019728\n",
       "25%          0.021883\n",
       "50%          0.023163\n",
       "75%          0.024266\n",
       "max          0.027999\n",
       "Name: Err q10 ref, dtype: float64"
      ]
     },
     "execution_count": 32,
     "metadata": {},
     "output_type": "execute_result"
    }
   ],
   "source": [
    "comparacion['Err q10 ref'].describe()"
   ]
  },
  {
   "cell_type": "code",
   "execution_count": 17,
   "metadata": {},
   "outputs": [
    {
     "data": {
      "text/plain": [
       "count    14956.000000\n",
       "mean         1.457879\n",
       "std          0.967956\n",
       "min          0.002334\n",
       "25%          0.816393\n",
       "50%          1.232008\n",
       "75%          1.864009\n",
       "max          9.520859\n",
       "Name: NEE_fsd, dtype: float64"
      ]
     },
     "execution_count": 17,
     "metadata": {},
     "output_type": "execute_result"
    }
   ],
   "source": [
    "comparacion['NEE_fsd'].describe()"
   ]
  },
  {
   "cell_type": "code",
   "execution_count": null,
   "metadata": {},
   "outputs": [],
   "source": []
  }
 ],
 "metadata": {
  "kernelspec": {
   "display_name": "Python 3",
   "language": "python",
   "name": "python3"
  },
  "language_info": {
   "codemirror_mode": {
    "name": "ipython",
    "version": 3
   },
   "file_extension": ".py",
   "mimetype": "text/x-python",
   "name": "python",
   "nbconvert_exporter": "python",
   "pygments_lexer": "ipython3",
   "version": "3.7.6"
  }
 },
 "nbformat": 4,
 "nbformat_minor": 2
}
