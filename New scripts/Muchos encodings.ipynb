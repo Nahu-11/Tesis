{
 "cells": [
  {
   "cell_type": "code",
   "execution_count": 6,
   "metadata": {},
   "outputs": [],
   "source": [
    "import pandas as pd\n",
    "import numpy as np"
   ]
  },
  {
   "cell_type": "code",
   "execution_count": 7,
   "metadata": {},
   "outputs": [],
   "source": [
    "datos = pd.read_csv(\n",
    "    'C:\\\\Users\\\\nahue\\\\Desktop\\\\Tesis_2\\\\Datos\\\\Ejemplo_orig.txt',\n",
    "    delimiter = '\\t',\n",
    "    decimal = '.',\n",
    "    na_values = -9999,\n",
    "    encoding = 'ascii'\n",
    "    )"
   ]
  },
  {
   "cell_type": "code",
   "execution_count": 8,
   "metadata": {},
   "outputs": [
    {
     "data": {
      "text/html": [
       "<div>\n",
       "<style scoped>\n",
       "    .dataframe tbody tr th:only-of-type {\n",
       "        vertical-align: middle;\n",
       "    }\n",
       "\n",
       "    .dataframe tbody tr th {\n",
       "        vertical-align: top;\n",
       "    }\n",
       "\n",
       "    .dataframe thead th {\n",
       "        text-align: right;\n",
       "    }\n",
       "</style>\n",
       "<table border=\"1\" class=\"dataframe\">\n",
       "  <thead>\n",
       "    <tr style=\"text-align: right;\">\n",
       "      <th></th>\n",
       "      <th>Year</th>\n",
       "      <th>DoY</th>\n",
       "      <th>Hour</th>\n",
       "      <th>NEE</th>\n",
       "      <th>LE</th>\n",
       "      <th>H</th>\n",
       "      <th>Rg</th>\n",
       "      <th>Tair</th>\n",
       "      <th>Tsoil</th>\n",
       "      <th>rH</th>\n",
       "      <th>VPD</th>\n",
       "      <th>Ustar</th>\n",
       "    </tr>\n",
       "  </thead>\n",
       "  <tbody>\n",
       "    <tr>\n",
       "      <th>0</th>\n",
       "      <td>-</td>\n",
       "      <td>-</td>\n",
       "      <td>-</td>\n",
       "      <td>umolm-2s-1</td>\n",
       "      <td>Wm-2</td>\n",
       "      <td>Wm-2</td>\n",
       "      <td>Wm-2</td>\n",
       "      <td>degC</td>\n",
       "      <td>degC</td>\n",
       "      <td>%</td>\n",
       "      <td>hPa</td>\n",
       "      <td>ms-1</td>\n",
       "    </tr>\n",
       "    <tr>\n",
       "      <th>1</th>\n",
       "      <td>1998</td>\n",
       "      <td>1</td>\n",
       "      <td>0.5</td>\n",
       "      <td>-1.21</td>\n",
       "      <td>1.49</td>\n",
       "      <td>-11.77</td>\n",
       "      <td>0</td>\n",
       "      <td>7.4</td>\n",
       "      <td>4.19</td>\n",
       "      <td>55.27</td>\n",
       "      <td>4.6</td>\n",
       "      <td>0.72</td>\n",
       "    </tr>\n",
       "    <tr>\n",
       "      <th>2</th>\n",
       "      <td>1998</td>\n",
       "      <td>1</td>\n",
       "      <td>1</td>\n",
       "      <td>1.72</td>\n",
       "      <td>3.8</td>\n",
       "      <td>-13.5</td>\n",
       "      <td>0</td>\n",
       "      <td>7.5</td>\n",
       "      <td>4.2</td>\n",
       "      <td>55.95</td>\n",
       "      <td>4.6</td>\n",
       "      <td>0.52</td>\n",
       "    </tr>\n",
       "    <tr>\n",
       "      <th>3</th>\n",
       "      <td>1998</td>\n",
       "      <td>1</td>\n",
       "      <td>1.5</td>\n",
       "      <td>NaN</td>\n",
       "      <td>1.52</td>\n",
       "      <td>-18.3</td>\n",
       "      <td>0</td>\n",
       "      <td>7.1</td>\n",
       "      <td>4.22</td>\n",
       "      <td>57.75</td>\n",
       "      <td>4.3</td>\n",
       "      <td>0.22</td>\n",
       "    </tr>\n",
       "    <tr>\n",
       "      <th>4</th>\n",
       "      <td>1998</td>\n",
       "      <td>1</td>\n",
       "      <td>2</td>\n",
       "      <td>NaN</td>\n",
       "      <td>3.94</td>\n",
       "      <td>-17.47</td>\n",
       "      <td>0</td>\n",
       "      <td>6.6</td>\n",
       "      <td>4.23</td>\n",
       "      <td>60.2</td>\n",
       "      <td>3.9</td>\n",
       "      <td>0.2</td>\n",
       "    </tr>\n",
       "  </tbody>\n",
       "</table>\n",
       "</div>"
      ],
      "text/plain": [
       "   Year DoY Hour         NEE    LE       H    Rg  Tair Tsoil     rH  VPD Ustar\n",
       "0     -   -    -  umolm-2s-1  Wm-2    Wm-2  Wm-2  degC  degC      %  hPa  ms-1\n",
       "1  1998   1  0.5       -1.21  1.49  -11.77     0   7.4  4.19  55.27  4.6  0.72\n",
       "2  1998   1    1        1.72   3.8   -13.5     0   7.5   4.2  55.95  4.6  0.52\n",
       "3  1998   1  1.5         NaN  1.52   -18.3     0   7.1  4.22  57.75  4.3  0.22\n",
       "4  1998   1    2         NaN  3.94  -17.47     0   6.6  4.23   60.2  3.9   0.2"
      ]
     },
     "execution_count": 8,
     "metadata": {},
     "output_type": "execute_result"
    }
   ],
   "source": [
    "datos.head()"
   ]
  },
  {
   "cell_type": "code",
   "execution_count": 9,
   "metadata": {},
   "outputs": [],
   "source": [
    "encod = ['ascii', 'cp037', 'cp437', 'cp500',\n",
    "         'cp850', 'cp1140', 'cp1252', 'latin_1',\n",
    "         'iso2022_jp_2', 'iso8859_15', 'utf_8',\n",
    "         'mac_roman', 'utf_16', 'utf_16_be',\n",
    "         'utf_16_le', 'utf_7'\n",
    "        ]"
   ]
  },
  {
   "cell_type": "code",
   "execution_count": 12,
   "metadata": {},
   "outputs": [],
   "source": [
    "for i in encod:\n",
    "    datos.to_csv('C:\\\\Users\\\\nahue\\\\Desktop\\\\Tesis_2\\\\Datos\\\\Ejemplo_' + i + '.txt',\n",
    "                 sep = '\\t',\n",
    "                 na_rep = -9999,\n",
    "                 index = False,\n",
    "                 encoding = i,\n",
    "                 )"
   ]
  },
  {
   "cell_type": "code",
   "execution_count": null,
   "metadata": {},
   "outputs": [],
   "source": []
  }
 ],
 "metadata": {
  "kernelspec": {
   "display_name": "Python 3",
   "language": "python",
   "name": "python3"
  },
  "language_info": {
   "codemirror_mode": {
    "name": "ipython",
    "version": 3
   },
   "file_extension": ".py",
   "mimetype": "text/x-python",
   "name": "python",
   "nbconvert_exporter": "python",
   "pygments_lexer": "ipython3",
   "version": "3.7.2"
  }
 },
 "nbformat": 4,
 "nbformat_minor": 2
}
