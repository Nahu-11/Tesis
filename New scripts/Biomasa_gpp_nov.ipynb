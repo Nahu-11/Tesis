{
 "cells": [
  {
   "cell_type": "code",
   "execution_count": 1,
   "metadata": {},
   "outputs": [],
   "source": [
    "import pandas as pd\n",
    "import numpy as np\n",
    "import matplotlib.pyplot as plt"
   ]
  },
  {
   "cell_type": "code",
   "execution_count": 2,
   "metadata": {},
   "outputs": [],
   "source": [
    "def resumen(datos):\n",
    "    return print('Forma:\\n', datos.shape,'\\n\\n',\n",
    "                 'Columnas:\\n', datos.columns,'\\n\\n',\n",
    "                 'Tipos:\\n', datos.dtypes,'\\n\\n',\n",
    "                 'Datos nulos:\\n', datos.isnull().sum(),'\\n\\n',\n",
    "                 'Cabecera:\\n', datos.head(10),'\\n\\n',\n",
    "                 'Últimos datos:\\n', datos.tail(10),'\\n\\n',\n",
    "                 'Estadísticos:\\n', datos.describe([0.05,0.25,0.5,0.75,0.95])\n",
    "                )\n",
    "def metadata(ejex, ejey):\n",
    "    # plt.title(titulo, fontsize = 60, fontweight='bold')\n",
    "    plt.xlabel(ejex, fontsize = 35)\n",
    "    plt.ylabel(ejey, fontsize = 35)\n",
    "    plt.xticks(fontsize = 25)\n",
    "    plt.yticks(fontsize = 25)\n",
    "    return"
   ]
  },
  {
   "cell_type": "code",
   "execution_count": 3,
   "metadata": {},
   "outputs": [],
   "source": [
    "biomasa = pd.read_csv(\n",
    "        #'C:\\\\Users\\\\BIOMET\\\\Desktop\\\\Tesis_2\\\\Datos\\\\Biomasa.txt',\n",
    "        'C:\\\\Users\\\\nahue\\\\Desktop\\\\Tesis_2\\\\Datos\\\\Biomasa.txt',\n",
    "        delimiter = '\\t',\n",
    "        decimal = '.',\n",
    "        )"
   ]
  },
  {
   "cell_type": "code",
   "execution_count": 4,
   "metadata": {},
   "outputs": [
    {
     "name": "stdout",
     "output_type": "stream",
     "text": [
      "Forma:\n",
      " (7, 10) \n",
      "\n",
      " Columnas:\n",
      " Index(['Fecha', 'Sitio 1 S', 'Sitio 2 S', 'Sitio 3 S', 'Sitio 1 V',\n",
      "       'Sitio 2 V', 'Sitio 3 V', 'Sitio 1 T', 'Sitio 2 T', 'Sitio 3 T'],\n",
      "      dtype='object') \n",
      "\n",
      " Tipos:\n",
      " Fecha         object\n",
      "Sitio 1 S    float64\n",
      "Sitio 2 S    float64\n",
      "Sitio 3 S    float64\n",
      "Sitio 1 V    float64\n",
      "Sitio 2 V    float64\n",
      "Sitio 3 V    float64\n",
      "Sitio 1 T    float64\n",
      "Sitio 2 T    float64\n",
      "Sitio 3 T    float64\n",
      "dtype: object \n",
      "\n",
      " Datos nulos:\n",
      " Fecha        0\n",
      "Sitio 1 S    0\n",
      "Sitio 2 S    0\n",
      "Sitio 3 S    0\n",
      "Sitio 1 V    0\n",
      "Sitio 2 V    0\n",
      "Sitio 3 V    0\n",
      "Sitio 1 T    0\n",
      "Sitio 2 T    0\n",
      "Sitio 3 T    0\n",
      "dtype: int64 \n",
      "\n",
      " Cabecera:\n",
      "     Fecha    Sitio 1 S    Sitio 2 S    Sitio 3 S    Sitio 1 V    Sitio 2 V  \\\n",
      "0  23-feb  1665.922500  2741.985000  1425.181250  1303.700625   995.790000   \n",
      "1  04-abr  3441.581250  2701.359375  1852.176563  1206.965625  2071.865625   \n",
      "2  18-may  2474.334375  2190.343750  2109.193750  2002.631250  2016.671875   \n",
      "3  28-jun  2680.234375  3841.062500  3078.968750  1165.937500  1194.984375   \n",
      "4  23-ago  2695.025000  2876.959375  3147.759375  1326.281250   866.028125   \n",
      "5  11-oct  2757.820313  3065.500000  3606.779688   750.234375   646.250000   \n",
      "6  12-dic  2672.765625  2456.900000  2006.793750   925.953125   726.553125   \n",
      "\n",
      "     Sitio 3 V    Sitio 1 T    Sitio 2 T    Sitio 3 T  \n",
      "0   581.037500  2969.623125  3737.775000  2006.218750  \n",
      "1  2002.653125  4648.546875  4773.225000  3854.829688  \n",
      "2  1172.600000  4476.965625  4207.015625  3281.793750  \n",
      "3   691.315625  3846.171875  5036.046875  3770.284375  \n",
      "4   712.903125  4021.306250  3742.987500  3860.662500  \n",
      "5   622.800000  3508.054688  3711.750000  4229.579688  \n",
      "6   783.412500  3598.718750  3183.453125  2790.206250   \n",
      "\n",
      " Últimos datos:\n",
      "     Fecha    Sitio 1 S    Sitio 2 S    Sitio 3 S    Sitio 1 V    Sitio 2 V  \\\n",
      "0  23-feb  1665.922500  2741.985000  1425.181250  1303.700625   995.790000   \n",
      "1  04-abr  3441.581250  2701.359375  1852.176563  1206.965625  2071.865625   \n",
      "2  18-may  2474.334375  2190.343750  2109.193750  2002.631250  2016.671875   \n",
      "3  28-jun  2680.234375  3841.062500  3078.968750  1165.937500  1194.984375   \n",
      "4  23-ago  2695.025000  2876.959375  3147.759375  1326.281250   866.028125   \n",
      "5  11-oct  2757.820313  3065.500000  3606.779688   750.234375   646.250000   \n",
      "6  12-dic  2672.765625  2456.900000  2006.793750   925.953125   726.553125   \n",
      "\n",
      "     Sitio 3 V    Sitio 1 T    Sitio 2 T    Sitio 3 T  \n",
      "0   581.037500  2969.623125  3737.775000  2006.218750  \n",
      "1  2002.653125  4648.546875  4773.225000  3854.829688  \n",
      "2  1172.600000  4476.965625  4207.015625  3281.793750  \n",
      "3   691.315625  3846.171875  5036.046875  3770.284375  \n",
      "4   712.903125  4021.306250  3742.987500  3860.662500  \n",
      "5   622.800000  3508.054688  3711.750000  4229.579688  \n",
      "6   783.412500  3598.718750  3183.453125  2790.206250   \n",
      "\n",
      " Estadísticos:\n",
      "          Sitio 1 S    Sitio 2 S    Sitio 3 S    Sitio 1 V    Sitio 2 V  \\\n",
      "count     7.000000     7.000000     7.000000     7.000000     7.000000   \n",
      "mean   2626.811920  2839.158571  2460.979018  1240.243393  1216.877589   \n",
      "std     522.364634   524.719677   810.348929   395.428157   592.897370   \n",
      "min    1665.922500  2190.343750  1425.181250   750.234375   646.250000   \n",
      "5%     1908.446063  2270.310625  1553.279844   802.950000   670.340937   \n",
      "25%    2573.550000  2579.129687  1929.485156  1045.945312   796.290625   \n",
      "50%    2680.234375  2741.985000  2109.193750  1206.965625   995.790000   \n",
      "75%    2726.422656  2971.229688  3113.364062  1314.990937  1605.828125   \n",
      "95%    3236.452969  3608.393750  3469.073594  1799.726250  2055.307500   \n",
      "max    3441.581250  3841.062500  3606.779688  2002.631250  2071.865625   \n",
      "\n",
      "         Sitio 3 V    Sitio 1 T    Sitio 2 T    Sitio 3 T  \n",
      "count     7.000000     7.000000     7.000000     7.000000  \n",
      "mean    938.103125  3867.055313  4056.036161  3399.082143  \n",
      "std     508.382354   579.255213   655.336984   771.668579  \n",
      "min     581.037500  2969.623125  3183.453125  2006.218750  \n",
      "5%      593.566250  3131.152594  3341.942187  2241.415000  \n",
      "25%     657.057812  3553.386719  3724.762500  3036.000000  \n",
      "50%     712.903125  3846.171875  3742.987500  3770.284375  \n",
      "75%     978.006250  4249.135938  4490.120313  3857.746094  \n",
      "95%    1753.637187  4597.072500  4957.200313  4118.904532  \n",
      "max    2002.653125  4648.546875  5036.046875  4229.579688  \n"
     ]
    }
   ],
   "source": [
    "resumen(biomasa)"
   ]
  },
  {
   "cell_type": "code",
   "execution_count": 5,
   "metadata": {},
   "outputs": [],
   "source": [
    "relleno_MOD = pd.read_csv(\n",
    "        #'C:\\\\Users\\\\BIOMET\\\\Desktop\\\\Tesis_2\\\\Datos\\\\Relleno_nov.txt',\n",
    "        'C:\\\\Users\\\\nahue\\\\Desktop\\\\Tesis_2\\\\Datos\\\\GPP_nov.txt',\n",
    "        delimiter = '\\t',\n",
    "        decimal = '.',\n",
    "        )"
   ]
  },
  {
   "cell_type": "code",
   "execution_count": 6,
   "metadata": {},
   "outputs": [
    {
     "name": "stdout",
     "output_type": "stream",
     "text": [
      "Forma:\n",
      " (14956, 3) \n",
      "\n",
      " Columnas:\n",
      " Index(['DoY', 'Hour', 'GPP'], dtype='object') \n",
      "\n",
      " Tipos:\n",
      " DoY     float64\n",
      "Hour    float64\n",
      "GPP     float64\n",
      "dtype: object \n",
      "\n",
      " Datos nulos:\n",
      " DoY     0\n",
      "Hour    0\n",
      "GPP     0\n",
      "dtype: int64 \n",
      "\n",
      " Cabecera:\n",
      "     DoY    Hour       GPP\n",
      "0  54.0   9.125 -7.509249\n",
      "1  54.0   9.625 -7.113621\n",
      "2  54.0  10.125 -8.581179\n",
      "3  54.0  10.625 -8.140468\n",
      "4  54.0  11.125 -9.183098\n",
      "5  54.0  11.625 -9.431455\n",
      "6  54.0  12.125 -9.618058\n",
      "7  54.0  12.625 -9.685237\n",
      "8  54.0  13.125 -9.691405\n",
      "9  54.0  13.625 -9.692285 \n",
      "\n",
      " Últimos datos:\n",
      "          DoY    Hour       GPP\n",
      "14946  365.0  18.125 -2.554905\n",
      "14947  365.0  18.625 -1.066834\n",
      "14948  365.0  19.125 -0.497839\n",
      "14949  365.0  19.625 -0.151886\n",
      "14950  365.0  20.125 -0.033042\n",
      "14951  365.0  20.625 -0.003779\n",
      "14952  365.0  21.125 -0.211868\n",
      "14953  365.0  21.625 -0.217192\n",
      "14954  365.0  22.125 -0.374786\n",
      "14955  365.0  22.625 -0.106824 \n",
      "\n",
      " Estadísticos:\n",
      "                 DoY          Hour           GPP\n",
      "count  14956.000000  14956.000000  1.495600e+04\n",
      "mean     209.666355     11.882489 -2.020304e+00\n",
      "std       89.949666      6.924809  2.869620e+00\n",
      "min       54.000000      0.125000 -1.307573e+01\n",
      "5%        69.000000      1.125000 -8.995043e+00\n",
      "25%      132.000000      6.125000 -3.102816e+00\n",
      "50%      210.000000     12.125000 -2.623703e-01\n",
      "75%      288.000000     18.125000 -5.052412e-03\n",
      "95%      350.000000     22.625000 -3.597123e-14\n",
      "max      365.000000     23.625000 -0.000000e+00\n"
     ]
    }
   ],
   "source": [
    "resumen(relleno_MOD)"
   ]
  },
  {
   "cell_type": "code",
   "execution_count": 17,
   "metadata": {},
   "outputs": [
    {
     "name": "stderr",
     "output_type": "stream",
     "text": [
      "C:\\Users\\nahue\\AppData\\Roaming\\Python\\Python37\\site-packages\\ipykernel_launcher.py:11: SettingWithCopyWarning: \n",
      "A value is trying to be set on a copy of a slice from a DataFrame\n",
      "\n",
      "See the caveats in the documentation: http://pandas.pydata.org/pandas-docs/stable/user_guide/indexing.html#returning-a-view-versus-a-copy\n",
      "  # This is added back by InteractiveShellApp.init_path()\n"
     ]
    }
   ],
   "source": [
    "dias = [54, 94, 138, 179, 235, 284, 346]\n",
    "gpp_MOD = list(range(1, len(dias)))\n",
    "biomasa['Cantidad'] = biomasa['Sitio 1 S'][:]\n",
    "for i in list(range(1, len(dias))):\n",
    "    desde = dias[i-1]\n",
    "    hasta = dias[i]\n",
    "    cantidad = hasta - desde\n",
    "    mod_bimens = relleno_MOD[(relleno_MOD['DoY'] >= desde)\n",
    "                           & (relleno_MOD['DoY'] < hasta)\n",
    "                          ]\n",
    "    biomasa['Cantidad'][i] = cantidad\n",
    "    gpp_MOD[i-1] = -mod_bimens['GPP'].sum()*60*30/1000000*44/cantidad"
   ]
  },
  {
   "cell_type": "code",
   "execution_count": 18,
   "metadata": {},
   "outputs": [
    {
     "data": {
      "text/plain": [
       "<matplotlib.legend.Legend at 0x16db770>"
      ]
     },
     "execution_count": 18,
     "metadata": {},
     "output_type": "execute_result"
    },
    {
     "data": {
      "image/png": "[encoded data removed]",
      "text/plain": [
       "<Figure size 1296x648 with 1 Axes>"
      ]
     },
     "metadata": {
      "needs_background": "light"
     },
     "output_type": "display_data"
    }
   ],
   "source": [
    "plt.figure(figsize=(18,9))\n",
    "plt.plot(biomasa['Fecha'], biomasa['Sitio 1 V'], 'o')\n",
    "plt.plot(biomasa['Fecha'], biomasa['Sitio 2 V'], 'o')\n",
    "plt.plot(biomasa['Fecha'], biomasa['Sitio 3 V'], 'o')\n",
    "metadata('Fecha', '$g/m^2$')\n",
    "plt.legend(['Sitio 1', 'Sitio 2', 'Sitio 3'],\n",
    "           fontsize = 20\n",
    "          )"
   ]
  },
  {
   "cell_type": "code",
   "execution_count": 19,
   "metadata": {},
   "outputs": [],
   "source": [
    "prom = (biomasa['Sitio 2 V'] + biomasa['Sitio 3 V']) /2\n",
    "prom_2 = list(range(len(prom)))\n",
    "for i in list(range(len(prom))):\n",
    "    prom_2[i] = prom[i]/biomasa['Cantidad'][i]"
   ]
  },
  {
   "cell_type": "code",
   "execution_count": 23,
   "metadata": {},
   "outputs": [
    {
     "data": {
      "text/plain": [
       "<matplotlib.legend.Legend at 0x473e110>"
      ]
     },
     "execution_count": 23,
     "metadata": {},
     "output_type": "execute_result"
    },
    {
     "data": {
      "image/png": "[encoded data removed]",
      "text/plain": [
       "<Figure size 1296x648 with 1 Axes>"
      ]
     },
     "metadata": {
      "needs_background": "light"
     },
     "output_type": "display_data"
    }
   ],
   "source": [
    "plt.figure(figsize=(18,9))\n",
    "plt.plot(prom_2[1:-1], gpp_MOD[:-1], 'o')\n",
    "metadata('$g/m^2$', '')\n",
    "plt.legend(['Promedio verde'],\n",
    "           fontsize = 20\n",
    "          )"
   ]
  },
  {
   "cell_type": "code",
   "execution_count": 22,
   "metadata": {},
   "outputs": [
    {
     "data": {
      "text/plain": [
       "[10.945545051552205,\n",
       " 2.419340827127335,\n",
       " 4.3463256291070165,\n",
       " 4.317597146793647,\n",
       " 6.73216997872322,\n",
       " 12.781529165647484]"
      ]
     },
     "execution_count": 22,
     "metadata": {},
     "output_type": "execute_result"
    }
   ],
   "source": [
    "gpp_MOD"
   ]
  },
  {
   "cell_type": "code",
   "execution_count": null,
   "metadata": {},
   "outputs": [],
   "source": []
  }
 ],
 "metadata": {
  "kernelspec": {
   "display_name": "Python 3",
   "language": "python",
   "name": "python3"
  },
  "language_info": {
   "codemirror_mode": {
    "name": "ipython",
    "version": 3
   },
   "file_extension": ".py",
   "mimetype": "text/x-python",
   "name": "python",
   "nbconvert_exporter": "python",
   "pygments_lexer": "ipython3",
   "version": "3.7.2"
  }
 },
 "nbformat": 4,
 "nbformat_minor": 2
}
